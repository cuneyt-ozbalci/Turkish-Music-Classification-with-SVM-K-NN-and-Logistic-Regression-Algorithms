{
  "nbformat": 4,
  "nbformat_minor": 0,
  "metadata": {
    "colab": {
      "name": "TEZ_KOD_EN_GUNCEL_CLASSIFICATION.ipynb adlı not defterinin kopyası adlı not defterinin kopyası adlı not defterinin kopyası adlı not defterinin kopyası adlı not defterinin kopyası",
      "provenance": [],
      "collapsed_sections": []
    },
    "kernelspec": {
      "name": "python3",
      "display_name": "Python 3"
    },
    "language_info": {
      "name": "python"
    }
  },
  "cells": [
    {
      "cell_type": "code",
      "metadata": {
        "id": "aeZzzj_2I0mx"
      },
      "source": [
        "import numpy as np\n",
        "import pandas as pd\n",
        "\n",
        "import matplotlib.pyplot as plt\n",
        "import seaborn as sns\n",
        "\n",
        "from sklearn.model_selection import train_test_split\n",
        "from sklearn.preprocessing import StandardScaler\n",
        "\n",
        "from sklearn.svm import SVC\n",
        "from sklearn.neighbors import KNeighborsClassifier\n",
        "from sklearn.linear_model import LogisticRegression\n",
        "from sklearn.metrics import classification_report, confusion_matrix\n",
        "from sklearn.metrics import plot_confusion_matrix\n",
        "from sklearn.neighbors import DistanceMetric"
      ],
      "execution_count": 291,
      "outputs": []
    },
    {
      "cell_type": "code",
      "metadata": {
        "colab": {
          "base_uri": "https://localhost:8080/"
        },
        "id": "eq4j3BEJtfNE",
        "outputId": "ca0bfcaa-bc7e-4b64-e807-40a7abf3aa7a"
      },
      "source": [
        "from google.colab import drive\n",
        "drive.mount('/content/drive')"
      ],
      "execution_count": 292,
      "outputs": [
        {
          "output_type": "stream",
          "name": "stdout",
          "text": [
            "Drive already mounted at /content/drive; to attempt to forcibly remount, call drive.mount(\"/content/drive\", force_remount=True).\n"
          ]
        }
      ]
    },
    {
      "cell_type": "code",
      "metadata": {
        "colab": {
          "base_uri": "https://localhost:8080/",
          "height": 226
        },
        "id": "hFFsZO1iI1ix",
        "outputId": "8302cc68-0f82-443a-bde7-b0453ac3fa0d"
      },
      "source": [
        "#Drive'dan csv formatında tutulan elde edilmiş olan özniteliklerin bulunduğu .csv uzantılı dosyayı okuyoruz  \n",
        "df = pd.read_csv(\"/content/drive/MyDrive/ozniteliklerGuncel.csv\")\n",
        "\n",
        "#csv dosyasındaki ilk 5 dosyaya ait öznitelikleri listeliyoruz\n",
        "df.head()"
      ],
      "execution_count": 293,
      "outputs": [
        {
          "output_type": "execute_result",
          "data": {
            "text/html": [
              "<div>\n",
              "<style scoped>\n",
              "    .dataframe tbody tr th:only-of-type {\n",
              "        vertical-align: middle;\n",
              "    }\n",
              "\n",
              "    .dataframe tbody tr th {\n",
              "        vertical-align: top;\n",
              "    }\n",
              "\n",
              "    .dataframe thead th {\n",
              "        text-align: right;\n",
              "    }\n",
              "</style>\n",
              "<table border=\"1\" class=\"dataframe\">\n",
              "  <thead>\n",
              "    <tr style=\"text-align: right;\">\n",
              "      <th></th>\n",
              "      <th>filename</th>\n",
              "      <th>chroma_sft</th>\n",
              "      <th>rmse</th>\n",
              "      <th>spectral_centroid</th>\n",
              "      <th>spectral_bandwidth</th>\n",
              "      <th>rolloff</th>\n",
              "      <th>zero_crossing_rate</th>\n",
              "      <th>mfcc1</th>\n",
              "      <th>mfcc2</th>\n",
              "      <th>mfcc3</th>\n",
              "      <th>mfcc4</th>\n",
              "      <th>mfcc5</th>\n",
              "      <th>mfcc6</th>\n",
              "      <th>mfcc7</th>\n",
              "      <th>mfcc8</th>\n",
              "      <th>mfcc9</th>\n",
              "      <th>mfcc10</th>\n",
              "      <th>mfcc11</th>\n",
              "      <th>mfcc12</th>\n",
              "      <th>mfcc13</th>\n",
              "      <th>mfcc14</th>\n",
              "      <th>mfcc15</th>\n",
              "      <th>mfcc16</th>\n",
              "      <th>mfcc17</th>\n",
              "      <th>mfcc18</th>\n",
              "      <th>mfcc19</th>\n",
              "      <th>mfcc20</th>\n",
              "      <th>label</th>\n",
              "    </tr>\n",
              "  </thead>\n",
              "  <tbody>\n",
              "    <tr>\n",
              "      <th>0</th>\n",
              "      <td>arabesk97.wav</td>\n",
              "      <td>0.309805</td>\n",
              "      <td>0.160069</td>\n",
              "      <td>1987.898620</td>\n",
              "      <td>2386.070590</td>\n",
              "      <td>4374.915212</td>\n",
              "      <td>0.077087</td>\n",
              "      <td>-101.297920</td>\n",
              "      <td>105.311958</td>\n",
              "      <td>9.100749</td>\n",
              "      <td>29.451788</td>\n",
              "      <td>4.009431</td>\n",
              "      <td>3.495616</td>\n",
              "      <td>4.813166</td>\n",
              "      <td>4.345260</td>\n",
              "      <td>-17.030727</td>\n",
              "      <td>-1.757773</td>\n",
              "      <td>-12.160355</td>\n",
              "      <td>-3.518101</td>\n",
              "      <td>-3.985821</td>\n",
              "      <td>-3.318068</td>\n",
              "      <td>-8.535262</td>\n",
              "      <td>1.866204</td>\n",
              "      <td>-7.377528</td>\n",
              "      <td>5.469159</td>\n",
              "      <td>-2.410178</td>\n",
              "      <td>-1.668989</td>\n",
              "      <td>arabesk</td>\n",
              "    </tr>\n",
              "    <tr>\n",
              "      <th>1</th>\n",
              "      <td>arabesk69.wav</td>\n",
              "      <td>0.330102</td>\n",
              "      <td>0.086539</td>\n",
              "      <td>2012.677511</td>\n",
              "      <td>2033.577496</td>\n",
              "      <td>3866.701619</td>\n",
              "      <td>0.103828</td>\n",
              "      <td>-142.886337</td>\n",
              "      <td>112.204796</td>\n",
              "      <td>-24.379759</td>\n",
              "      <td>30.277864</td>\n",
              "      <td>6.596526</td>\n",
              "      <td>9.525859</td>\n",
              "      <td>-3.565216</td>\n",
              "      <td>7.141987</td>\n",
              "      <td>-7.938272</td>\n",
              "      <td>5.691778</td>\n",
              "      <td>-12.291855</td>\n",
              "      <td>-5.929135</td>\n",
              "      <td>-0.552728</td>\n",
              "      <td>-4.900157</td>\n",
              "      <td>-6.029496</td>\n",
              "      <td>-2.747115</td>\n",
              "      <td>-14.357821</td>\n",
              "      <td>2.437822</td>\n",
              "      <td>-6.838944</td>\n",
              "      <td>4.922549</td>\n",
              "      <td>arabesk</td>\n",
              "    </tr>\n",
              "    <tr>\n",
              "      <th>2</th>\n",
              "      <td>arabesk70.wav</td>\n",
              "      <td>0.344264</td>\n",
              "      <td>0.156957</td>\n",
              "      <td>2189.079715</td>\n",
              "      <td>2306.408033</td>\n",
              "      <td>4491.839505</td>\n",
              "      <td>0.113211</td>\n",
              "      <td>-75.684418</td>\n",
              "      <td>101.691322</td>\n",
              "      <td>-14.538788</td>\n",
              "      <td>15.784513</td>\n",
              "      <td>0.422744</td>\n",
              "      <td>10.293576</td>\n",
              "      <td>2.506735</td>\n",
              "      <td>12.788445</td>\n",
              "      <td>-9.445118</td>\n",
              "      <td>11.223742</td>\n",
              "      <td>2.345231</td>\n",
              "      <td>5.103718</td>\n",
              "      <td>1.457363</td>\n",
              "      <td>-2.033618</td>\n",
              "      <td>-2.659964</td>\n",
              "      <td>9.913649</td>\n",
              "      <td>-0.666854</td>\n",
              "      <td>14.352630</td>\n",
              "      <td>-1.819569</td>\n",
              "      <td>1.348846</td>\n",
              "      <td>arabesk</td>\n",
              "    </tr>\n",
              "    <tr>\n",
              "      <th>3</th>\n",
              "      <td>arabesk68.wav</td>\n",
              "      <td>0.304202</td>\n",
              "      <td>0.109572</td>\n",
              "      <td>2413.169353</td>\n",
              "      <td>2342.607708</td>\n",
              "      <td>4837.387416</td>\n",
              "      <td>0.126748</td>\n",
              "      <td>-113.593895</td>\n",
              "      <td>89.088852</td>\n",
              "      <td>-14.799851</td>\n",
              "      <td>19.503319</td>\n",
              "      <td>0.290750</td>\n",
              "      <td>5.966953</td>\n",
              "      <td>-8.319305</td>\n",
              "      <td>4.537189</td>\n",
              "      <td>-9.663052</td>\n",
              "      <td>5.507977</td>\n",
              "      <td>-9.135820</td>\n",
              "      <td>-0.700420</td>\n",
              "      <td>-5.394728</td>\n",
              "      <td>-5.029300</td>\n",
              "      <td>-9.617834</td>\n",
              "      <td>2.584709</td>\n",
              "      <td>-7.366623</td>\n",
              "      <td>9.366902</td>\n",
              "      <td>1.701080</td>\n",
              "      <td>1.356515</td>\n",
              "      <td>arabesk</td>\n",
              "    </tr>\n",
              "    <tr>\n",
              "      <th>4</th>\n",
              "      <td>arabesk71.wav</td>\n",
              "      <td>0.285014</td>\n",
              "      <td>0.123973</td>\n",
              "      <td>1876.955429</td>\n",
              "      <td>2277.894528</td>\n",
              "      <td>4057.275466</td>\n",
              "      <td>0.074829</td>\n",
              "      <td>-119.866486</td>\n",
              "      <td>112.955086</td>\n",
              "      <td>4.335303</td>\n",
              "      <td>21.668198</td>\n",
              "      <td>1.511088</td>\n",
              "      <td>9.883083</td>\n",
              "      <td>-2.455509</td>\n",
              "      <td>10.556302</td>\n",
              "      <td>-11.574791</td>\n",
              "      <td>3.224523</td>\n",
              "      <td>-1.426639</td>\n",
              "      <td>3.486441</td>\n",
              "      <td>-0.000994</td>\n",
              "      <td>-0.338838</td>\n",
              "      <td>-9.421690</td>\n",
              "      <td>4.085955</td>\n",
              "      <td>-6.993758</td>\n",
              "      <td>-0.334080</td>\n",
              "      <td>-4.087308</td>\n",
              "      <td>-0.820091</td>\n",
              "      <td>arabesk</td>\n",
              "    </tr>\n",
              "  </tbody>\n",
              "</table>\n",
              "</div>"
            ],
            "text/plain": [
              "        filename  chroma_sft      rmse  ...    mfcc19    mfcc20    label\n",
              "0  arabesk97.wav    0.309805  0.160069  ... -2.410178 -1.668989  arabesk\n",
              "1  arabesk69.wav    0.330102  0.086539  ... -6.838944  4.922549  arabesk\n",
              "2  arabesk70.wav    0.344264  0.156957  ... -1.819569  1.348846  arabesk\n",
              "3  arabesk68.wav    0.304202  0.109572  ...  1.701080  1.356515  arabesk\n",
              "4  arabesk71.wav    0.285014  0.123973  ... -4.087308 -0.820091  arabesk\n",
              "\n",
              "[5 rows x 28 columns]"
            ]
          },
          "metadata": {},
          "execution_count": 293
        }
      ]
    },
    {
      "cell_type": "code",
      "metadata": {
        "colab": {
          "base_uri": "https://localhost:8080/",
          "height": 226
        },
        "id": "sl2CU-RLLEsI",
        "outputId": "4799dd4e-cda2-4dd4-d113-9e11c2aa28c0"
      },
      "source": [
        "#csv dosyasındaki son 5 dosyaya ait öznitelikleri listeliyoruz\n",
        "df.tail()\n"
      ],
      "execution_count": 294,
      "outputs": [
        {
          "output_type": "execute_result",
          "data": {
            "text/html": [
              "<div>\n",
              "<style scoped>\n",
              "    .dataframe tbody tr th:only-of-type {\n",
              "        vertical-align: middle;\n",
              "    }\n",
              "\n",
              "    .dataframe tbody tr th {\n",
              "        vertical-align: top;\n",
              "    }\n",
              "\n",
              "    .dataframe thead th {\n",
              "        text-align: right;\n",
              "    }\n",
              "</style>\n",
              "<table border=\"1\" class=\"dataframe\">\n",
              "  <thead>\n",
              "    <tr style=\"text-align: right;\">\n",
              "      <th></th>\n",
              "      <th>filename</th>\n",
              "      <th>chroma_sft</th>\n",
              "      <th>rmse</th>\n",
              "      <th>spectral_centroid</th>\n",
              "      <th>spectral_bandwidth</th>\n",
              "      <th>rolloff</th>\n",
              "      <th>zero_crossing_rate</th>\n",
              "      <th>mfcc1</th>\n",
              "      <th>mfcc2</th>\n",
              "      <th>mfcc3</th>\n",
              "      <th>mfcc4</th>\n",
              "      <th>mfcc5</th>\n",
              "      <th>mfcc6</th>\n",
              "      <th>mfcc7</th>\n",
              "      <th>mfcc8</th>\n",
              "      <th>mfcc9</th>\n",
              "      <th>mfcc10</th>\n",
              "      <th>mfcc11</th>\n",
              "      <th>mfcc12</th>\n",
              "      <th>mfcc13</th>\n",
              "      <th>mfcc14</th>\n",
              "      <th>mfcc15</th>\n",
              "      <th>mfcc16</th>\n",
              "      <th>mfcc17</th>\n",
              "      <th>mfcc18</th>\n",
              "      <th>mfcc19</th>\n",
              "      <th>mfcc20</th>\n",
              "      <th>label</th>\n",
              "    </tr>\n",
              "  </thead>\n",
              "  <tbody>\n",
              "    <tr>\n",
              "      <th>595</th>\n",
              "      <td>rap24.wav</td>\n",
              "      <td>0.406854</td>\n",
              "      <td>0.257684</td>\n",
              "      <td>2957.061389</td>\n",
              "      <td>2694.880880</td>\n",
              "      <td>6009.138664</td>\n",
              "      <td>0.157939</td>\n",
              "      <td>-26.027363</td>\n",
              "      <td>62.614746</td>\n",
              "      <td>-6.766315</td>\n",
              "      <td>19.079746</td>\n",
              "      <td>9.313376</td>\n",
              "      <td>5.788400</td>\n",
              "      <td>2.563352</td>\n",
              "      <td>10.234179</td>\n",
              "      <td>-7.550674</td>\n",
              "      <td>11.284214</td>\n",
              "      <td>0.033284</td>\n",
              "      <td>5.725316</td>\n",
              "      <td>7.569656</td>\n",
              "      <td>2.022748</td>\n",
              "      <td>-4.349519</td>\n",
              "      <td>-2.712170</td>\n",
              "      <td>-6.249690</td>\n",
              "      <td>2.025126</td>\n",
              "      <td>-3.426627</td>\n",
              "      <td>-6.490084</td>\n",
              "      <td>rap</td>\n",
              "    </tr>\n",
              "    <tr>\n",
              "      <th>596</th>\n",
              "      <td>rap88.wav</td>\n",
              "      <td>0.392987</td>\n",
              "      <td>0.391632</td>\n",
              "      <td>2040.400620</td>\n",
              "      <td>2509.014162</td>\n",
              "      <td>4691.829962</td>\n",
              "      <td>0.062274</td>\n",
              "      <td>-29.966196</td>\n",
              "      <td>105.273018</td>\n",
              "      <td>13.639367</td>\n",
              "      <td>14.910060</td>\n",
              "      <td>2.109445</td>\n",
              "      <td>5.201437</td>\n",
              "      <td>-2.043074</td>\n",
              "      <td>14.120319</td>\n",
              "      <td>-12.779682</td>\n",
              "      <td>-4.963748</td>\n",
              "      <td>-1.221123</td>\n",
              "      <td>2.436538</td>\n",
              "      <td>-3.273801</td>\n",
              "      <td>4.241679</td>\n",
              "      <td>-7.716446</td>\n",
              "      <td>1.006003</td>\n",
              "      <td>-3.376425</td>\n",
              "      <td>0.240784</td>\n",
              "      <td>-5.541738</td>\n",
              "      <td>0.882324</td>\n",
              "      <td>rap</td>\n",
              "    </tr>\n",
              "    <tr>\n",
              "      <th>597</th>\n",
              "      <td>rap67.wav</td>\n",
              "      <td>0.400743</td>\n",
              "      <td>0.307365</td>\n",
              "      <td>2620.996680</td>\n",
              "      <td>2509.886973</td>\n",
              "      <td>5469.650259</td>\n",
              "      <td>0.127860</td>\n",
              "      <td>8.150068</td>\n",
              "      <td>80.540321</td>\n",
              "      <td>-6.365468</td>\n",
              "      <td>28.771231</td>\n",
              "      <td>-4.605390</td>\n",
              "      <td>11.615508</td>\n",
              "      <td>-2.561617</td>\n",
              "      <td>8.026776</td>\n",
              "      <td>-8.861401</td>\n",
              "      <td>8.532795</td>\n",
              "      <td>-0.019873</td>\n",
              "      <td>-3.022855</td>\n",
              "      <td>2.465177</td>\n",
              "      <td>1.212342</td>\n",
              "      <td>-3.424656</td>\n",
              "      <td>-0.490549</td>\n",
              "      <td>-6.420533</td>\n",
              "      <td>3.998738</td>\n",
              "      <td>-6.686697</td>\n",
              "      <td>1.969250</td>\n",
              "      <td>rap</td>\n",
              "    </tr>\n",
              "    <tr>\n",
              "      <th>598</th>\n",
              "      <td>rap91.wav</td>\n",
              "      <td>0.472495</td>\n",
              "      <td>0.286480</td>\n",
              "      <td>3355.501239</td>\n",
              "      <td>3040.796619</td>\n",
              "      <td>7104.082043</td>\n",
              "      <td>0.127975</td>\n",
              "      <td>-18.973555</td>\n",
              "      <td>54.307613</td>\n",
              "      <td>16.996738</td>\n",
              "      <td>17.710957</td>\n",
              "      <td>11.586288</td>\n",
              "      <td>18.271011</td>\n",
              "      <td>-2.222001</td>\n",
              "      <td>12.253256</td>\n",
              "      <td>-2.448277</td>\n",
              "      <td>9.043710</td>\n",
              "      <td>2.637179</td>\n",
              "      <td>8.896210</td>\n",
              "      <td>1.603512</td>\n",
              "      <td>9.103068</td>\n",
              "      <td>5.843406</td>\n",
              "      <td>9.132414</td>\n",
              "      <td>-4.671154</td>\n",
              "      <td>0.309432</td>\n",
              "      <td>-5.774984</td>\n",
              "      <td>-2.647220</td>\n",
              "      <td>rap</td>\n",
              "    </tr>\n",
              "    <tr>\n",
              "      <th>599</th>\n",
              "      <td>rap25.wav</td>\n",
              "      <td>0.533781</td>\n",
              "      <td>0.279791</td>\n",
              "      <td>2255.496314</td>\n",
              "      <td>2496.339264</td>\n",
              "      <td>4903.662015</td>\n",
              "      <td>0.062192</td>\n",
              "      <td>-93.920624</td>\n",
              "      <td>83.106560</td>\n",
              "      <td>17.574114</td>\n",
              "      <td>33.530239</td>\n",
              "      <td>4.220807</td>\n",
              "      <td>6.031207</td>\n",
              "      <td>6.415910</td>\n",
              "      <td>15.932702</td>\n",
              "      <td>-3.457766</td>\n",
              "      <td>14.923325</td>\n",
              "      <td>4.294558</td>\n",
              "      <td>6.316744</td>\n",
              "      <td>8.675721</td>\n",
              "      <td>7.061596</td>\n",
              "      <td>2.683866</td>\n",
              "      <td>8.545001</td>\n",
              "      <td>2.099720</td>\n",
              "      <td>6.520593</td>\n",
              "      <td>3.369309</td>\n",
              "      <td>1.640418</td>\n",
              "      <td>rap</td>\n",
              "    </tr>\n",
              "  </tbody>\n",
              "</table>\n",
              "</div>"
            ],
            "text/plain": [
              "      filename  chroma_sft      rmse  ...    mfcc19    mfcc20  label\n",
              "595  rap24.wav    0.406854  0.257684  ... -3.426627 -6.490084    rap\n",
              "596  rap88.wav    0.392987  0.391632  ... -5.541738  0.882324    rap\n",
              "597  rap67.wav    0.400743  0.307365  ... -6.686697  1.969250    rap\n",
              "598  rap91.wav    0.472495  0.286480  ... -5.774984 -2.647220    rap\n",
              "599  rap25.wav    0.533781  0.279791  ...  3.369309  1.640418    rap\n",
              "\n",
              "[5 rows x 28 columns]"
            ]
          },
          "metadata": {},
          "execution_count": 294
        }
      ]
    },
    {
      "cell_type": "code",
      "metadata": {
        "colab": {
          "base_uri": "https://localhost:8080/"
        },
        "id": "Jtlq8FNgLEyr",
        "outputId": "32afa579-9d35-45ec-896e-3dbb4a83d6de"
      },
      "source": [
        "#mevcut satır-sütun sayılarını gösteriyoruz\n",
        "print('Rows :',df.shape[0])\n",
        "print('Columns :',df.shape[1])"
      ],
      "execution_count": 295,
      "outputs": [
        {
          "output_type": "stream",
          "name": "stdout",
          "text": [
            "Rows : 600\n",
            "Columns : 28\n"
          ]
        }
      ]
    },
    {
      "cell_type": "code",
      "metadata": {
        "colab": {
          "base_uri": "https://localhost:8080/",
          "height": 320
        },
        "id": "Nl3Ib2cNLE1W",
        "outputId": "b5d523d5-4bad-42d5-e73b-5eb697ad6234"
      },
      "source": [
        "#dosyaların özniteliklerine ait değerlerin birtakım özelliklerini (ortalama,standart sapma gibi) describe() fonksiyonu ile gösteriyoruz\n",
        "df.describe()\n"
      ],
      "execution_count": 296,
      "outputs": [
        {
          "output_type": "execute_result",
          "data": {
            "text/html": [
              "<div>\n",
              "<style scoped>\n",
              "    .dataframe tbody tr th:only-of-type {\n",
              "        vertical-align: middle;\n",
              "    }\n",
              "\n",
              "    .dataframe tbody tr th {\n",
              "        vertical-align: top;\n",
              "    }\n",
              "\n",
              "    .dataframe thead th {\n",
              "        text-align: right;\n",
              "    }\n",
              "</style>\n",
              "<table border=\"1\" class=\"dataframe\">\n",
              "  <thead>\n",
              "    <tr style=\"text-align: right;\">\n",
              "      <th></th>\n",
              "      <th>chroma_sft</th>\n",
              "      <th>rmse</th>\n",
              "      <th>spectral_centroid</th>\n",
              "      <th>spectral_bandwidth</th>\n",
              "      <th>rolloff</th>\n",
              "      <th>zero_crossing_rate</th>\n",
              "      <th>mfcc1</th>\n",
              "      <th>mfcc2</th>\n",
              "      <th>mfcc3</th>\n",
              "      <th>mfcc4</th>\n",
              "      <th>mfcc5</th>\n",
              "      <th>mfcc6</th>\n",
              "      <th>mfcc7</th>\n",
              "      <th>mfcc8</th>\n",
              "      <th>mfcc9</th>\n",
              "      <th>mfcc10</th>\n",
              "      <th>mfcc11</th>\n",
              "      <th>mfcc12</th>\n",
              "      <th>mfcc13</th>\n",
              "      <th>mfcc14</th>\n",
              "      <th>mfcc15</th>\n",
              "      <th>mfcc16</th>\n",
              "      <th>mfcc17</th>\n",
              "      <th>mfcc18</th>\n",
              "      <th>mfcc19</th>\n",
              "      <th>mfcc20</th>\n",
              "    </tr>\n",
              "  </thead>\n",
              "  <tbody>\n",
              "    <tr>\n",
              "      <th>count</th>\n",
              "      <td>600.000000</td>\n",
              "      <td>600.000000</td>\n",
              "      <td>600.000000</td>\n",
              "      <td>600.000000</td>\n",
              "      <td>600.000000</td>\n",
              "      <td>600.000000</td>\n",
              "      <td>600.000000</td>\n",
              "      <td>600.000000</td>\n",
              "      <td>600.000000</td>\n",
              "      <td>600.000000</td>\n",
              "      <td>600.000000</td>\n",
              "      <td>600.000000</td>\n",
              "      <td>600.000000</td>\n",
              "      <td>600.000000</td>\n",
              "      <td>600.000000</td>\n",
              "      <td>600.000000</td>\n",
              "      <td>600.000000</td>\n",
              "      <td>600.000000</td>\n",
              "      <td>600.000000</td>\n",
              "      <td>600.000000</td>\n",
              "      <td>600.000000</td>\n",
              "      <td>600.000000</td>\n",
              "      <td>600.000000</td>\n",
              "      <td>600.000000</td>\n",
              "      <td>600.000000</td>\n",
              "      <td>600.000000</td>\n",
              "    </tr>\n",
              "    <tr>\n",
              "      <th>mean</th>\n",
              "      <td>0.342577</td>\n",
              "      <td>0.192798</td>\n",
              "      <td>2274.431348</td>\n",
              "      <td>2397.452392</td>\n",
              "      <td>4817.582412</td>\n",
              "      <td>0.097865</td>\n",
              "      <td>-89.428896</td>\n",
              "      <td>95.023858</td>\n",
              "      <td>-3.192734</td>\n",
              "      <td>24.104391</td>\n",
              "      <td>0.397043</td>\n",
              "      <td>5.843991</td>\n",
              "      <td>-2.627965</td>\n",
              "      <td>4.407998</td>\n",
              "      <td>-7.597469</td>\n",
              "      <td>4.656371</td>\n",
              "      <td>-5.097485</td>\n",
              "      <td>1.939730</td>\n",
              "      <td>-3.686411</td>\n",
              "      <td>0.651717</td>\n",
              "      <td>-4.305503</td>\n",
              "      <td>1.506916</td>\n",
              "      <td>-5.336674</td>\n",
              "      <td>1.721989</td>\n",
              "      <td>-4.210087</td>\n",
              "      <td>0.405731</td>\n",
              "    </tr>\n",
              "    <tr>\n",
              "      <th>std</th>\n",
              "      <td>0.076339</td>\n",
              "      <td>0.083798</td>\n",
              "      <td>508.697991</td>\n",
              "      <td>396.626082</td>\n",
              "      <td>1219.214915</td>\n",
              "      <td>0.028360</td>\n",
              "      <td>68.735182</td>\n",
              "      <td>23.606959</td>\n",
              "      <td>18.772797</td>\n",
              "      <td>11.871261</td>\n",
              "      <td>10.237239</td>\n",
              "      <td>8.520244</td>\n",
              "      <td>7.703746</td>\n",
              "      <td>6.961387</td>\n",
              "      <td>6.798564</td>\n",
              "      <td>5.997443</td>\n",
              "      <td>5.164776</td>\n",
              "      <td>4.697992</td>\n",
              "      <td>4.393072</td>\n",
              "      <td>4.753822</td>\n",
              "      <td>4.470275</td>\n",
              "      <td>4.329357</td>\n",
              "      <td>4.933312</td>\n",
              "      <td>4.560436</td>\n",
              "      <td>4.326507</td>\n",
              "      <td>4.388463</td>\n",
              "    </tr>\n",
              "    <tr>\n",
              "      <th>min</th>\n",
              "      <td>0.189209</td>\n",
              "      <td>0.022946</td>\n",
              "      <td>766.629703</td>\n",
              "      <td>745.927208</td>\n",
              "      <td>1061.960245</td>\n",
              "      <td>0.035646</td>\n",
              "      <td>-370.405029</td>\n",
              "      <td>36.853516</td>\n",
              "      <td>-76.429955</td>\n",
              "      <td>-22.437603</td>\n",
              "      <td>-48.495094</td>\n",
              "      <td>-34.798244</td>\n",
              "      <td>-38.159321</td>\n",
              "      <td>-24.513357</td>\n",
              "      <td>-39.196522</td>\n",
              "      <td>-19.037193</td>\n",
              "      <td>-30.203503</td>\n",
              "      <td>-20.435312</td>\n",
              "      <td>-19.104523</td>\n",
              "      <td>-22.744225</td>\n",
              "      <td>-23.269682</td>\n",
              "      <td>-19.101444</td>\n",
              "      <td>-27.156734</td>\n",
              "      <td>-13.716795</td>\n",
              "      <td>-20.720760</td>\n",
              "      <td>-14.759884</td>\n",
              "    </tr>\n",
              "    <tr>\n",
              "      <th>25%</th>\n",
              "      <td>0.281084</td>\n",
              "      <td>0.128239</td>\n",
              "      <td>1922.514273</td>\n",
              "      <td>2179.006860</td>\n",
              "      <td>3946.003222</td>\n",
              "      <td>0.076584</td>\n",
              "      <td>-120.616837</td>\n",
              "      <td>79.394499</td>\n",
              "      <td>-13.182296</td>\n",
              "      <td>16.613365</td>\n",
              "      <td>-4.944328</td>\n",
              "      <td>1.897416</td>\n",
              "      <td>-6.863304</td>\n",
              "      <td>0.337140</td>\n",
              "      <td>-11.582822</td>\n",
              "      <td>1.418478</td>\n",
              "      <td>-8.233479</td>\n",
              "      <td>-0.707589</td>\n",
              "      <td>-6.300728</td>\n",
              "      <td>-2.046833</td>\n",
              "      <td>-6.936856</td>\n",
              "      <td>-0.903258</td>\n",
              "      <td>-8.239427</td>\n",
              "      <td>-1.188486</td>\n",
              "      <td>-6.636309</td>\n",
              "      <td>-2.206107</td>\n",
              "    </tr>\n",
              "    <tr>\n",
              "      <th>50%</th>\n",
              "      <td>0.336613</td>\n",
              "      <td>0.191580</td>\n",
              "      <td>2299.940484</td>\n",
              "      <td>2461.766727</td>\n",
              "      <td>4918.541092</td>\n",
              "      <td>0.096816</td>\n",
              "      <td>-76.308151</td>\n",
              "      <td>92.343113</td>\n",
              "      <td>0.350891</td>\n",
              "      <td>24.034374</td>\n",
              "      <td>1.856419</td>\n",
              "      <td>7.158622</td>\n",
              "      <td>-2.212868</td>\n",
              "      <td>5.153792</td>\n",
              "      <td>-7.029894</td>\n",
              "      <td>5.009468</td>\n",
              "      <td>-4.649909</td>\n",
              "      <td>2.337312</td>\n",
              "      <td>-3.503276</td>\n",
              "      <td>0.745882</td>\n",
              "      <td>-4.211849</td>\n",
              "      <td>1.484625</td>\n",
              "      <td>-5.403669</td>\n",
              "      <td>1.699152</td>\n",
              "      <td>-4.246816</td>\n",
              "      <td>0.307651</td>\n",
              "    </tr>\n",
              "    <tr>\n",
              "      <th>75%</th>\n",
              "      <td>0.395201</td>\n",
              "      <td>0.250985</td>\n",
              "      <td>2607.233899</td>\n",
              "      <td>2665.187127</td>\n",
              "      <td>5657.751205</td>\n",
              "      <td>0.116465</td>\n",
              "      <td>-42.772514</td>\n",
              "      <td>108.678368</td>\n",
              "      <td>8.931166</td>\n",
              "      <td>31.447155</td>\n",
              "      <td>7.383765</td>\n",
              "      <td>11.596425</td>\n",
              "      <td>2.213452</td>\n",
              "      <td>9.114592</td>\n",
              "      <td>-2.624271</td>\n",
              "      <td>8.418362</td>\n",
              "      <td>-1.826027</td>\n",
              "      <td>5.164004</td>\n",
              "      <td>-0.914871</td>\n",
              "      <td>3.655455</td>\n",
              "      <td>-1.593246</td>\n",
              "      <td>4.128754</td>\n",
              "      <td>-2.519898</td>\n",
              "      <td>4.422180</td>\n",
              "      <td>-1.451700</td>\n",
              "      <td>3.276030</td>\n",
              "    </tr>\n",
              "    <tr>\n",
              "      <th>max</th>\n",
              "      <td>0.554932</td>\n",
              "      <td>0.531034</td>\n",
              "      <td>3660.040709</td>\n",
              "      <td>3280.800089</td>\n",
              "      <td>7855.102501</td>\n",
              "      <td>0.195963</td>\n",
              "      <td>82.700600</td>\n",
              "      <td>190.108185</td>\n",
              "      <td>44.004971</td>\n",
              "      <td>74.970917</td>\n",
              "      <td>24.138908</td>\n",
              "      <td>35.442307</td>\n",
              "      <td>25.392092</td>\n",
              "      <td>29.328972</td>\n",
              "      <td>15.594335</td>\n",
              "      <td>27.230028</td>\n",
              "      <td>8.430918</td>\n",
              "      <td>17.235130</td>\n",
              "      <td>14.831096</td>\n",
              "      <td>16.416967</td>\n",
              "      <td>11.494813</td>\n",
              "      <td>19.706083</td>\n",
              "      <td>16.820324</td>\n",
              "      <td>22.550032</td>\n",
              "      <td>15.596196</td>\n",
              "      <td>14.313401</td>\n",
              "    </tr>\n",
              "  </tbody>\n",
              "</table>\n",
              "</div>"
            ],
            "text/plain": [
              "       chroma_sft        rmse  ...      mfcc19      mfcc20\n",
              "count  600.000000  600.000000  ...  600.000000  600.000000\n",
              "mean     0.342577    0.192798  ...   -4.210087    0.405731\n",
              "std      0.076339    0.083798  ...    4.326507    4.388463\n",
              "min      0.189209    0.022946  ...  -20.720760  -14.759884\n",
              "25%      0.281084    0.128239  ...   -6.636309   -2.206107\n",
              "50%      0.336613    0.191580  ...   -4.246816    0.307651\n",
              "75%      0.395201    0.250985  ...   -1.451700    3.276030\n",
              "max      0.554932    0.531034  ...   15.596196   14.313401\n",
              "\n",
              "[8 rows x 26 columns]"
            ]
          },
          "metadata": {},
          "execution_count": 296
        }
      ]
    },
    {
      "cell_type": "code",
      "metadata": {
        "id": "0O0rGXKnLE4b"
      },
      "source": [
        "#csv dosyamıza ait sütun bazında veri tipi ve boş eleman var mı yok mu durumlarını kontrol ediyoruz\n",
        "#df.info()\n"
      ],
      "execution_count": 297,
      "outputs": []
    },
    {
      "cell_type": "code",
      "metadata": {
        "colab": {
          "base_uri": "https://localhost:8080/"
        },
        "id": "9KT88YNDLoe9",
        "outputId": "b9a11ec1-a96d-471a-d899-8836444777e9"
      },
      "source": [
        "#sütun bazında boş eleman olmadığını gösteriyoruz (tüm sütunlara başarılı şekilde değer atamışız)\n",
        "df.isnull().sum()\n"
      ],
      "execution_count": 298,
      "outputs": [
        {
          "output_type": "execute_result",
          "data": {
            "text/plain": [
              "filename              0\n",
              "chroma_sft            0\n",
              "rmse                  0\n",
              "spectral_centroid     0\n",
              "spectral_bandwidth    0\n",
              "rolloff               0\n",
              "zero_crossing_rate    0\n",
              "mfcc1                 0\n",
              "mfcc2                 0\n",
              "mfcc3                 0\n",
              "mfcc4                 0\n",
              "mfcc5                 0\n",
              "mfcc6                 0\n",
              "mfcc7                 0\n",
              "mfcc8                 0\n",
              "mfcc9                 0\n",
              "mfcc10                0\n",
              "mfcc11                0\n",
              "mfcc12                0\n",
              "mfcc13                0\n",
              "mfcc14                0\n",
              "mfcc15                0\n",
              "mfcc16                0\n",
              "mfcc17                0\n",
              "mfcc18                0\n",
              "mfcc19                0\n",
              "mfcc20                0\n",
              "label                 0\n",
              "dtype: int64"
            ]
          },
          "metadata": {},
          "execution_count": 298
        }
      ]
    },
    {
      "cell_type": "code",
      "metadata": {
        "colab": {
          "base_uri": "https://localhost:8080/"
        },
        "id": "u9nPsCeTLohL",
        "outputId": "1ce150e4-f523-4f34-e68b-10abe8a63c92"
      },
      "source": [
        "#label sütununda hangi türden kaç eleman olduğunu listeliyoruz \n",
        "df['label'].value_counts()\n"
      ],
      "execution_count": 299,
      "outputs": [
        {
          "output_type": "execute_result",
          "data": {
            "text/plain": [
              "rock       100\n",
              "rap        100\n",
              "dini       100\n",
              "pop        100\n",
              "klasik     100\n",
              "arabesk    100\n",
              "Name: label, dtype: int64"
            ]
          },
          "metadata": {},
          "execution_count": 299
        }
      ]
    },
    {
      "cell_type": "code",
      "metadata": {
        "id": "Bpem3slyLoin"
      },
      "source": [
        "### label etiketine ait farklı türden veriler arasındaki ilişkileri gösteren \"pairplot\" grafiğini seaborn kütüphanesi ile elde ediyoruz.\n",
        "#sns.pairplot(df,hue='label',size=2)\n",
        "### BU İŞLEM UZUN SÜRDÜĞÜ İÇİN FARKLI FEATURE'LER İÇİN TEKRAR TEKRAR BU SATIRI ÇALIŞTIRMADIM BİR DEFA ELDE EDİP GRAFİĞİ KAYDETTİM "
      ],
      "execution_count": 300,
      "outputs": []
    },
    {
      "cell_type": "code",
      "metadata": {
        "colab": {
          "base_uri": "https://localhost:8080/",
          "height": 421
        },
        "id": "zSr219iJPRM7",
        "outputId": "b59db0eb-2715-413d-f915-9b912ef67812"
      },
      "source": [
        "#her bir türe ait eleman sayısının grafiği\n",
        "df['label'].value_counts().plot.bar(color = 'gray', figsize = (6, 6))\n"
      ],
      "execution_count": 301,
      "outputs": [
        {
          "output_type": "execute_result",
          "data": {
            "text/plain": [
              "<matplotlib.axes._subplots.AxesSubplot at 0x7f075b4a9910>"
            ]
          },
          "metadata": {},
          "execution_count": 301
        },
        {
          "output_type": "display_data",
          "data": {
            "image/png": "[encoded data removed]",
            "text/plain": [
              "<Figure size 432x432 with 1 Axes>"
            ]
          },
          "metadata": {
            "needs_background": "light"
          }
        }
      ]
    },
    {
      "cell_type": "code",
      "metadata": {
        "id": "Uv5pMcQqPRQa"
      },
      "source": [
        ""
      ],
      "execution_count": 301,
      "outputs": []
    },
    {
      "cell_type": "code",
      "metadata": {
        "colab": {
          "base_uri": "https://localhost:8080/"
        },
        "id": "p7icDfkfPwPP",
        "outputId": "f4d715c9-9c72-407a-dc91-d68399ca14c7"
      },
      "source": [
        "#csv dosyasındaki öznitelikleri (her bir sütundaki ilk eleman) \"features\" e atayıp tümünü yazdırıyoruz\n",
        "features = list(df.columns)\n",
        "\n",
        "print(features)"
      ],
      "execution_count": 302,
      "outputs": [
        {
          "output_type": "stream",
          "name": "stdout",
          "text": [
            "['filename', 'chroma_sft', 'rmse', 'spectral_centroid', 'spectral_bandwidth', 'rolloff', 'zero_crossing_rate', 'mfcc1', 'mfcc2', 'mfcc3', 'mfcc4', 'mfcc5', 'mfcc6', 'mfcc7', 'mfcc8', 'mfcc9', 'mfcc10', 'mfcc11', 'mfcc12', 'mfcc13', 'mfcc14', 'mfcc15', 'mfcc16', 'mfcc17', 'mfcc18', 'mfcc19', 'mfcc20', 'label']\n"
          ]
        }
      ]
    },
    {
      "cell_type": "code",
      "metadata": {
        "colab": {
          "base_uri": "https://localhost:8080/"
        },
        "id": "ELuy6Ma7PwU-",
        "outputId": "e93ecff2-1a29-4d9a-bbd8-052ea1a6addd"
      },
      "source": [
        "#burada sınıflandırma başarımını ölçmek için sınıflandırma ölçümüne dahil etmek istemediğimiz öznitelikleri \"features\" listesinden çıkarıyoruz \n",
        "features.remove('label')\n",
        "features.remove('filename')\n",
        "\n",
        "print(features)"
      ],
      "execution_count": 303,
      "outputs": [
        {
          "output_type": "stream",
          "name": "stdout",
          "text": [
            "['chroma_sft', 'rmse', 'spectral_centroid', 'spectral_bandwidth', 'rolloff', 'zero_crossing_rate', 'mfcc1', 'mfcc2', 'mfcc3', 'mfcc4', 'mfcc5', 'mfcc6', 'mfcc7', 'mfcc8', 'mfcc9', 'mfcc10', 'mfcc11', 'mfcc12', 'mfcc13', 'mfcc14', 'mfcc15', 'mfcc16', 'mfcc17', 'mfcc18', 'mfcc19', 'mfcc20']\n"
          ]
        }
      ]
    },
    {
      "cell_type": "code",
      "metadata": {
        "id": "W0wjfyGjPRTH"
      },
      "source": [
        "#Y'ye labelleri atadık X'e ise float'a çevirdiğimiz özniteliklerin değerlerini atadık\n",
        "Y = df.label\n",
        "X = df[features].values.astype(np.float32)\n",
        "x_train, x_test, y_train, y_test = train_test_split(X, Y, test_size = 0.32, random_state = 0)\n",
        "sc = StandardScaler()\n",
        "x_train = sc.fit_transform(x_train)\n",
        "x_test = sc.transform(x_test)"
      ],
      "execution_count": 304,
      "outputs": []
    },
    {
      "cell_type": "code",
      "metadata": {
        "colab": {
          "base_uri": "https://localhost:8080/",
          "height": 594
        },
        "id": "g2lY4u7VP9pc",
        "outputId": "c66b9f74-c7b3-4de2-e45f-ed870f620242"
      },
      "source": [
        "#modeli oluşturup SVM algoritmasını uyguladık doğruluk değerini ve karmaşıklık matrisini elde edip ekrana çizdirdik çeşitli ölçüm metrikleri için sonuçları elde ettik\n",
        "model_SVC = SVC(kernel='rbf')\n",
        "model_SVC.fit(x_train,y_train)\n",
        "y_pred = model_SVC.predict(x_test)\n",
        "print(\"training accuracy :\", model_SVC.score(x_train, y_train))\n",
        "print(\"testing accuracy :\", model_SVC.score(x_test, y_test))\n",
        "cnf_SVC = SVC(random_state=0)\n",
        "cnf_SVC.fit(x_train, y_train)\n",
        "plot_confusion_matrix(cnf_SVC, x_test, y_test)  \n",
        "plt.show()\n",
        "print(classification_report(y_test, y_pred))\n"
      ],
      "execution_count": 305,
      "outputs": [
        {
          "output_type": "stream",
          "name": "stdout",
          "text": [
            "training accuracy : 0.8872549019607843\n",
            "testing accuracy : 0.7864583333333334\n"
          ]
        },
        {
          "output_type": "stream",
          "name": "stderr",
          "text": [
            "/usr/local/lib/python3.7/dist-packages/sklearn/utils/deprecation.py:87: FutureWarning: Function plot_confusion_matrix is deprecated; Function `plot_confusion_matrix` is deprecated in 1.0 and will be removed in 1.2. Use one of the class methods: ConfusionMatrixDisplay.from_predictions or ConfusionMatrixDisplay.from_estimator.\n",
            "  warnings.warn(msg, category=FutureWarning)\n"
          ]
        },
        {
          "output_type": "display_data",
          "data": {
            "image/png": "[encoded data removed]",
            "text/plain": [
              "<Figure size 432x288 with 2 Axes>"
            ]
          },
          "metadata": {
            "needs_background": "light"
          }
        },
        {
          "output_type": "stream",
          "name": "stdout",
          "text": [
            "              precision    recall  f1-score   support\n",
            "\n",
            "     arabesk       0.84      0.68      0.75        31\n",
            "        dini       0.54      0.70      0.61        27\n",
            "      klasik       0.65      0.62      0.63        32\n",
            "         pop       0.96      0.79      0.87        33\n",
            "         rap       0.94      0.94      0.94        33\n",
            "        rock       0.83      0.94      0.88        36\n",
            "\n",
            "    accuracy                           0.79       192\n",
            "   macro avg       0.79      0.78      0.78       192\n",
            "weighted avg       0.80      0.79      0.79       192\n",
            "\n"
          ]
        }
      ]
    },
    {
      "cell_type": "code",
      "metadata": {
        "colab": {
          "base_uri": "https://localhost:8080/",
          "height": 594
        },
        "id": "ebPtEqXOoQFK",
        "outputId": "39196530-e76e-4535-a43e-06400b5171f4"
      },
      "source": [
        "#modeli oluşturup K-NN algoritmasını uyguladık doğruluk değerini ve karmaşıklık matrisini elde edip ekrana çizdirdik çeşitli ölçüm metrikleri için sonuçları elde ettik\n",
        "knn = KNeighborsClassifier(n_neighbors=10,metric='minkowski')\n",
        "knn.fit(x_train, y_train)\n",
        "\n",
        "y_pred = knn.predict(x_test)\n",
        "\n",
        "print(\"training accuracy :\", knn.score(x_train, y_train))\n",
        "print(\"testing accuracy :\", knn.score(x_test, y_test))\n",
        "\n",
        "print(classification_report(y_test, y_pred))\n",
        "\n",
        "plot_confusion_matrix(knn, x_test, y_test)  \n",
        "plt.show()"
      ],
      "execution_count": 306,
      "outputs": [
        {
          "output_type": "stream",
          "name": "stdout",
          "text": [
            "training accuracy : 0.7058823529411765\n",
            "testing accuracy : 0.6875\n",
            "              precision    recall  f1-score   support\n",
            "\n",
            "     arabesk       0.62      0.65      0.63        31\n",
            "        dini       0.57      0.63      0.60        27\n",
            "      klasik       0.62      0.56      0.59        32\n",
            "         pop       0.70      0.79      0.74        33\n",
            "         rap       1.00      0.55      0.71        33\n",
            "        rock       0.72      0.92      0.80        36\n",
            "\n",
            "    accuracy                           0.69       192\n",
            "   macro avg       0.71      0.68      0.68       192\n",
            "weighted avg       0.71      0.69      0.68       192\n",
            "\n"
          ]
        },
        {
          "output_type": "stream",
          "name": "stderr",
          "text": [
            "/usr/local/lib/python3.7/dist-packages/sklearn/utils/deprecation.py:87: FutureWarning: Function plot_confusion_matrix is deprecated; Function `plot_confusion_matrix` is deprecated in 1.0 and will be removed in 1.2. Use one of the class methods: ConfusionMatrixDisplay.from_predictions or ConfusionMatrixDisplay.from_estimator.\n",
            "  warnings.warn(msg, category=FutureWarning)\n"
          ]
        },
        {
          "output_type": "display_data",
          "data": {
            "image/png": "[encoded data removed]",
            "text/plain": [
              "<Figure size 432x288 with 2 Axes>"
            ]
          },
          "metadata": {
            "needs_background": "light"
          }
        }
      ]
    },
    {
      "cell_type": "code",
      "metadata": {
        "colab": {
          "base_uri": "https://localhost:8080/",
          "height": 594
        },
        "id": "vCaD6BfEoQMY",
        "outputId": "f3f85175-7a8f-4858-8865-6239974229ad"
      },
      "source": [
        "#modeli oluşturup Lojistik Regresyon algoritmasını uyguladık doğruluk değerini ve karmaşıklık matrisini elde edip ekrana çizdirdik çeşitli ölçüm metrikleri için sonuçları elde ettik\n",
        "\n",
        "model_logisticRegression = LogisticRegression(C = 0.1,random_state = 0,max_iter=100)\n",
        "\n",
        "model_logisticRegression.fit(x_train, y_train)\n",
        "y_pred = model_logisticRegression.predict(x_test)\n",
        "\n",
        "print(\"training accuracy :\", model_logisticRegression.score(x_train, y_train))\n",
        "print(\"testing accuracy :\", model_logisticRegression.score(x_test, y_test))\n",
        "\n",
        "print(classification_report(y_test, y_pred))\n",
        "\n",
        "plot_confusion_matrix(model_logisticRegression, x_test, y_test)  \n",
        "plt.show()"
      ],
      "execution_count": 307,
      "outputs": [
        {
          "output_type": "stream",
          "name": "stdout",
          "text": [
            "training accuracy : 0.7843137254901961\n",
            "testing accuracy : 0.734375\n",
            "              precision    recall  f1-score   support\n",
            "\n",
            "     arabesk       0.75      0.58      0.65        31\n",
            "        dini       0.52      0.63      0.57        27\n",
            "      klasik       0.61      0.59      0.60        32\n",
            "         pop       0.96      0.73      0.83        33\n",
            "         rap       0.94      0.91      0.92        33\n",
            "        rock       0.70      0.92      0.80        36\n",
            "\n",
            "    accuracy                           0.73       192\n",
            "   macro avg       0.75      0.73      0.73       192\n",
            "weighted avg       0.75      0.73      0.74       192\n",
            "\n"
          ]
        },
        {
          "output_type": "stream",
          "name": "stderr",
          "text": [
            "/usr/local/lib/python3.7/dist-packages/sklearn/utils/deprecation.py:87: FutureWarning: Function plot_confusion_matrix is deprecated; Function `plot_confusion_matrix` is deprecated in 1.0 and will be removed in 1.2. Use one of the class methods: ConfusionMatrixDisplay.from_predictions or ConfusionMatrixDisplay.from_estimator.\n",
            "  warnings.warn(msg, category=FutureWarning)\n"
          ]
        },
        {
          "output_type": "display_data",
          "data": {
            "image/png": "[encoded data removed]",
            "text/plain": [
              "<Figure size 432x288 with 2 Axes>"
            ]
          },
          "metadata": {
            "needs_background": "light"
          }
        }
      ]
    }
  ]
}